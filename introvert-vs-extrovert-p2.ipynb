{
 "cells": [
  {
   "cell_type": "markdown",
   "id": "2be8419c",
   "metadata": {
    "papermill": {
     "duration": 0.003637,
     "end_time": "2025-07-02T15:29:11.638206",
     "exception": false,
     "start_time": "2025-07-02T15:29:11.634569",
     "status": "completed"
    },
    "tags": []
   },
   "source": [
    "**📦 1. Imports and Setup**"
   ]
  },
  {
   "cell_type": "code",
   "execution_count": 1,
   "id": "6e163036",
   "metadata": {
    "execution": {
     "iopub.execute_input": "2025-07-02T15:29:11.645459Z",
     "iopub.status.busy": "2025-07-02T15:29:11.645157Z",
     "iopub.status.idle": "2025-07-02T15:29:15.662125Z",
     "shell.execute_reply": "2025-07-02T15:29:15.661341Z"
    },
    "papermill": {
     "duration": 4.022291,
     "end_time": "2025-07-02T15:29:15.663680",
     "exception": false,
     "start_time": "2025-07-02T15:29:11.641389",
     "status": "completed"
    },
    "tags": []
   },
   "outputs": [],
   "source": [
    "import pandas as pd\n",
    "import numpy as np\n",
    "import matplotlib.pyplot as plt\n",
    "import seaborn as sns\n",
    "from sklearn.model_selection import StratifiedKFold\n",
    "from sklearn.preprocessing import LabelEncoder\n",
    "from sklearn.metrics import accuracy_score\n",
    "import xgboost as xgb\n",
    "import warnings\n",
    "\n",
    "warnings.filterwarnings('ignore')\n",
    "np.random.seed(42)"
   ]
  },
  {
   "cell_type": "markdown",
   "id": "f33e2a32",
   "metadata": {
    "papermill": {
     "duration": 0.002603,
     "end_time": "2025-07-02T15:29:15.669485",
     "exception": false,
     "start_time": "2025-07-02T15:29:15.666882",
     "status": "completed"
    },
    "tags": []
   },
   "source": [
    "**📂 2. Load and Combine Data**"
   ]
  },
  {
   "cell_type": "code",
   "execution_count": 2,
   "id": "358effd9",
   "metadata": {
    "execution": {
     "iopub.execute_input": "2025-07-02T15:29:15.676425Z",
     "iopub.status.busy": "2025-07-02T15:29:15.675962Z",
     "iopub.status.idle": "2025-07-02T15:29:15.846684Z",
     "shell.execute_reply": "2025-07-02T15:29:15.845942Z"
    },
    "papermill": {
     "duration": 0.175946,
     "end_time": "2025-07-02T15:29:15.848261",
     "exception": false,
     "start_time": "2025-07-02T15:29:15.672315",
     "status": "completed"
    },
    "tags": []
   },
   "outputs": [],
   "source": [
    "train = pd.read_csv('/kaggle/input/playground-series-s5e7/train.csv')\n",
    "test = pd.read_csv('/kaggle/input/playground-series-s5e7/test.csv')\n",
    "external = pd.read_csv('/kaggle/input/extrovert-vs-introvert-behavior-data/personality_datasert.csv')\n",
    "sample_submission = pd.read_csv('/kaggle/input/playground-series-s5e7/sample_submission.csv')\n",
    "\n",
    "external = pd.concat([external] * 7, ignore_index=True)"
   ]
  },
  {
   "cell_type": "markdown",
   "id": "0922cc19",
   "metadata": {
    "papermill": {
     "duration": 0.002737,
     "end_time": "2025-07-02T15:29:15.854067",
     "exception": false,
     "start_time": "2025-07-02T15:29:15.851330",
     "status": "completed"
    },
    "tags": []
   },
   "source": [
    "**🧹 3. Preprocessing**"
   ]
  },
  {
   "cell_type": "code",
   "execution_count": 3,
   "id": "222186ac",
   "metadata": {
    "execution": {
     "iopub.execute_input": "2025-07-02T15:29:15.861170Z",
     "iopub.status.busy": "2025-07-02T15:29:15.860865Z",
     "iopub.status.idle": "2025-07-02T15:29:15.916845Z",
     "shell.execute_reply": "2025-07-02T15:29:15.915757Z"
    },
    "papermill": {
     "duration": 0.061883,
     "end_time": "2025-07-02T15:29:15.918801",
     "exception": false,
     "start_time": "2025-07-02T15:29:15.856918",
     "status": "completed"
    },
    "tags": []
   },
   "outputs": [],
   "source": [
    "def preprocess(df, label_encoders=None, fit=False):\n",
    "    df = df.copy()\n",
    "    if 'id' in df.columns:\n",
    "        df = df.drop(columns=['id'])\n",
    "    if 'Personality' in df.columns:\n",
    "        y = df.pop('Personality')\n",
    "    else:\n",
    "        y = None\n",
    "\n",
    "    if label_encoders is None:\n",
    "        label_encoders = {}\n",
    "\n",
    "    for col in df.select_dtypes(include='object').columns:\n",
    "        if fit:\n",
    "            le = LabelEncoder()\n",
    "            df[col] = le.fit_transform(df[col].astype(str))\n",
    "            label_encoders[col] = le\n",
    "        else:\n",
    "            le = label_encoders[col]\n",
    "            df[col] = le.transform(df[col].astype(str))\n",
    "\n",
    "    return df, y, label_encoders\n",
    "\n",
    "X_train, y_train, label_encoders = preprocess(train, fit=True)\n",
    "X_test, _, _ = preprocess(test, label_encoders)\n",
    "X_external, y_external, _ = preprocess(external, label_encoders)\n",
    "\n",
    "target_encoder = LabelEncoder()\n",
    "y_train_enc = target_encoder.fit_transform(y_train)\n",
    "y_external_enc = target_encoder.transform(y_external)\n"
   ]
  },
  {
   "cell_type": "markdown",
   "id": "c7a6fab5",
   "metadata": {
    "papermill": {
     "duration": 0.002751,
     "end_time": "2025-07-02T15:29:15.926356",
     "exception": false,
     "start_time": "2025-07-02T15:29:15.923605",
     "status": "completed"
    },
    "tags": []
   },
   "source": [
    "**⚙️ 4. XGBoost Parameters**"
   ]
  },
  {
   "cell_type": "code",
   "execution_count": 4,
   "id": "4434d781",
   "metadata": {
    "execution": {
     "iopub.execute_input": "2025-07-02T15:29:15.938346Z",
     "iopub.status.busy": "2025-07-02T15:29:15.937545Z",
     "iopub.status.idle": "2025-07-02T15:29:15.944565Z",
     "shell.execute_reply": "2025-07-02T15:29:15.943514Z"
    },
    "papermill": {
     "duration": 0.014861,
     "end_time": "2025-07-02T15:29:15.946332",
     "exception": false,
     "start_time": "2025-07-02T15:29:15.931471",
     "status": "completed"
    },
    "tags": []
   },
   "outputs": [],
   "source": [
    "xgb_params = {\n",
    "    'objective': 'binary:logistic',\n",
    "    'eval_metric': 'logloss',\n",
    "    'max_leaves': 25,\n",
    "    'min_child_weight': 0.0034,\n",
    "    'learning_rate': 0.0947,\n",
    "    'n_estimators': 10000,\n",
    "    'subsample': 0.8025,\n",
    "    'colsample_bylevel': 0.8360,\n",
    "    'colsample_bytree': 0.8733,\n",
    "    'reg_alpha': 0.0029,\n",
    "    'reg_lambda': 27.126,\n",
    "    'random_state': 42,\n",
    "    'tree_method': 'hist',\n",
    "    'device': 'cuda'\n",
    "}"
   ]
  },
  {
   "cell_type": "markdown",
   "id": "fe494bf2",
   "metadata": {
    "papermill": {
     "duration": 0.004613,
     "end_time": "2025-07-02T15:29:15.957239",
     "exception": false,
     "start_time": "2025-07-02T15:29:15.952626",
     "status": "completed"
    },
    "tags": []
   },
   "source": [
    "**🔁 5. Cross-Validation**"
   ]
  },
  {
   "cell_type": "code",
   "execution_count": 5,
   "id": "3851bd11",
   "metadata": {
    "execution": {
     "iopub.execute_input": "2025-07-02T15:29:15.964447Z",
     "iopub.status.busy": "2025-07-02T15:29:15.963857Z",
     "iopub.status.idle": "2025-07-02T15:29:17.966831Z",
     "shell.execute_reply": "2025-07-02T15:29:17.965236Z"
    },
    "papermill": {
     "duration": 2.008748,
     "end_time": "2025-07-02T15:29:17.968836",
     "exception": false,
     "start_time": "2025-07-02T15:29:15.960088",
     "status": "completed"
    },
    "tags": []
   },
   "outputs": [
    {
     "name": "stdout",
     "output_type": "stream",
     "text": [
      "Training Fold 1/5...\n",
      "Fold 1 Accuracy: 0.9692, Best Iteration: 72\n",
      "Training Fold 2/5...\n",
      "Fold 2 Accuracy: 0.9665, Best Iteration: 62\n",
      "Training Fold 3/5...\n",
      "Fold 3 Accuracy: 0.9657, Best Iteration: 67\n",
      "Training Fold 4/5...\n",
      "Fold 4 Accuracy: 0.9706, Best Iteration: 93\n",
      "Training Fold 5/5...\n",
      "Fold 5 Accuracy: 0.9714, Best Iteration: 61\n",
      "\n",
      "Average CV Accuracy: 0.9687\n"
     ]
    }
   ],
   "source": [
    "def train_with_cv(X, y, X_ext, y_ext, params, n_splits=5):\n",
    "    skf = StratifiedKFold(n_splits=n_splits, shuffle=True, random_state=42)\n",
    "    scores = []\n",
    "    best_iterations = []\n",
    "\n",
    "    for fold, (train_idx, val_idx) in enumerate(skf.split(X, y), 1):\n",
    "        print(f\"Training Fold {fold}/{n_splits}...\")\n",
    "        X_train_fold = pd.concat([X.iloc[train_idx], X_ext])\n",
    "        y_train_fold = np.concatenate([y[train_idx], y_ext])\n",
    "        X_val_fold = X.iloc[val_idx]\n",
    "        y_val_fold = y[val_idx]\n",
    "\n",
    "        model = xgb.XGBClassifier(**params)\n",
    "        model.fit(\n",
    "            X_train_fold, y_train_fold,\n",
    "            eval_set=[(X_val_fold, y_val_fold)],\n",
    "            early_stopping_rounds=50,\n",
    "            verbose=False\n",
    "        )\n",
    "        preds = model.predict(X_val_fold)\n",
    "        acc = accuracy_score(y_val_fold, preds)\n",
    "        scores.append(acc)\n",
    "        best_iterations.append(model.best_iteration)\n",
    "        print(f\"Fold {fold} Accuracy: {acc:.4f}, Best Iteration: {model.best_iteration}\")\n",
    "\n",
    "    return scores, best_iterations\n",
    "\n",
    "cv_scores, best_iters = train_with_cv(X_train, y_train_enc, X_external, y_external_enc, xgb_params)\n",
    "print(f\"\\nAverage CV Accuracy: {np.mean(cv_scores):.4f}\")"
   ]
  },
  {
   "cell_type": "markdown",
   "id": "f96a1c18",
   "metadata": {
    "papermill": {
     "duration": 0.004108,
     "end_time": "2025-07-02T15:29:17.977680",
     "exception": false,
     "start_time": "2025-07-02T15:29:17.973572",
     "status": "completed"
    },
    "tags": []
   },
   "source": [
    "**🧠 6. Final Training**"
   ]
  },
  {
   "cell_type": "code",
   "execution_count": 6,
   "id": "4173d997",
   "metadata": {
    "execution": {
     "iopub.execute_input": "2025-07-02T15:29:17.986718Z",
     "iopub.status.busy": "2025-07-02T15:29:17.986366Z",
     "iopub.status.idle": "2025-07-02T15:29:18.111069Z",
     "shell.execute_reply": "2025-07-02T15:29:18.107937Z"
    },
    "papermill": {
     "duration": 0.130567,
     "end_time": "2025-07-02T15:29:18.112463",
     "exception": false,
     "start_time": "2025-07-02T15:29:17.981896",
     "status": "completed"
    },
    "tags": []
   },
   "outputs": [
    {
     "name": "stdout",
     "output_type": "stream",
     "text": [
      "\n",
      "Training final model with 71 estimators...\n"
     ]
    },
    {
     "data": {
      "text/html": [
       "<style>#sk-container-id-1 {color: black;background-color: white;}#sk-container-id-1 pre{padding: 0;}#sk-container-id-1 div.sk-toggleable {background-color: white;}#sk-container-id-1 label.sk-toggleable__label {cursor: pointer;display: block;width: 100%;margin-bottom: 0;padding: 0.3em;box-sizing: border-box;text-align: center;}#sk-container-id-1 label.sk-toggleable__label-arrow:before {content: \"▸\";float: left;margin-right: 0.25em;color: #696969;}#sk-container-id-1 label.sk-toggleable__label-arrow:hover:before {color: black;}#sk-container-id-1 div.sk-estimator:hover label.sk-toggleable__label-arrow:before {color: black;}#sk-container-id-1 div.sk-toggleable__content {max-height: 0;max-width: 0;overflow: hidden;text-align: left;background-color: #f0f8ff;}#sk-container-id-1 div.sk-toggleable__content pre {margin: 0.2em;color: black;border-radius: 0.25em;background-color: #f0f8ff;}#sk-container-id-1 input.sk-toggleable__control:checked~div.sk-toggleable__content {max-height: 200px;max-width: 100%;overflow: auto;}#sk-container-id-1 input.sk-toggleable__control:checked~label.sk-toggleable__label-arrow:before {content: \"▾\";}#sk-container-id-1 div.sk-estimator input.sk-toggleable__control:checked~label.sk-toggleable__label {background-color: #d4ebff;}#sk-container-id-1 div.sk-label input.sk-toggleable__control:checked~label.sk-toggleable__label {background-color: #d4ebff;}#sk-container-id-1 input.sk-hidden--visually {border: 0;clip: rect(1px 1px 1px 1px);clip: rect(1px, 1px, 1px, 1px);height: 1px;margin: -1px;overflow: hidden;padding: 0;position: absolute;width: 1px;}#sk-container-id-1 div.sk-estimator {font-family: monospace;background-color: #f0f8ff;border: 1px dotted black;border-radius: 0.25em;box-sizing: border-box;margin-bottom: 0.5em;}#sk-container-id-1 div.sk-estimator:hover {background-color: #d4ebff;}#sk-container-id-1 div.sk-parallel-item::after {content: \"\";width: 100%;border-bottom: 1px solid gray;flex-grow: 1;}#sk-container-id-1 div.sk-label:hover label.sk-toggleable__label {background-color: #d4ebff;}#sk-container-id-1 div.sk-serial::before {content: \"\";position: absolute;border-left: 1px solid gray;box-sizing: border-box;top: 0;bottom: 0;left: 50%;z-index: 0;}#sk-container-id-1 div.sk-serial {display: flex;flex-direction: column;align-items: center;background-color: white;padding-right: 0.2em;padding-left: 0.2em;position: relative;}#sk-container-id-1 div.sk-item {position: relative;z-index: 1;}#sk-container-id-1 div.sk-parallel {display: flex;align-items: stretch;justify-content: center;background-color: white;position: relative;}#sk-container-id-1 div.sk-item::before, #sk-container-id-1 div.sk-parallel-item::before {content: \"\";position: absolute;border-left: 1px solid gray;box-sizing: border-box;top: 0;bottom: 0;left: 50%;z-index: -1;}#sk-container-id-1 div.sk-parallel-item {display: flex;flex-direction: column;z-index: 1;position: relative;background-color: white;}#sk-container-id-1 div.sk-parallel-item:first-child::after {align-self: flex-end;width: 50%;}#sk-container-id-1 div.sk-parallel-item:last-child::after {align-self: flex-start;width: 50%;}#sk-container-id-1 div.sk-parallel-item:only-child::after {width: 0;}#sk-container-id-1 div.sk-dashed-wrapped {border: 1px dashed gray;margin: 0 0.4em 0.5em 0.4em;box-sizing: border-box;padding-bottom: 0.4em;background-color: white;}#sk-container-id-1 div.sk-label label {font-family: monospace;font-weight: bold;display: inline-block;line-height: 1.2em;}#sk-container-id-1 div.sk-label-container {text-align: center;}#sk-container-id-1 div.sk-container {/* jupyter's `normalize.less` sets `[hidden] { display: none; }` but bootstrap.min.css set `[hidden] { display: none !important; }` so we also need the `!important` here to be able to override the default hidden behavior on the sphinx rendered scikit-learn.org. See: https://github.com/scikit-learn/scikit-learn/issues/21755 */display: inline-block !important;position: relative;}#sk-container-id-1 div.sk-text-repr-fallback {display: none;}</style><div id=\"sk-container-id-1\" class=\"sk-top-container\"><div class=\"sk-text-repr-fallback\"><pre>XGBClassifier(base_score=None, booster=None, callbacks=None,\n",
       "              colsample_bylevel=0.836, colsample_bynode=None,\n",
       "              colsample_bytree=0.8733, device=&#x27;cuda&#x27;,\n",
       "              early_stopping_rounds=None, enable_categorical=False,\n",
       "              eval_metric=&#x27;logloss&#x27;, feature_types=None, gamma=None,\n",
       "              grow_policy=None, importance_type=None,\n",
       "              interaction_constraints=None, learning_rate=0.0947, max_bin=None,\n",
       "              max_cat_threshold=None, max_cat_to_onehot=None,\n",
       "              max_delta_step=None, max_depth=None, max_leaves=25,\n",
       "              min_child_weight=0.0034, missing=nan, monotone_constraints=None,\n",
       "              multi_strategy=None, n_estimators=71, n_jobs=None,\n",
       "              num_parallel_tree=None, random_state=42, ...)</pre><b>In a Jupyter environment, please rerun this cell to show the HTML representation or trust the notebook. <br />On GitHub, the HTML representation is unable to render, please try loading this page with nbviewer.org.</b></div><div class=\"sk-container\" hidden><div class=\"sk-item\"><div class=\"sk-estimator sk-toggleable\"><input class=\"sk-toggleable__control sk-hidden--visually\" id=\"sk-estimator-id-1\" type=\"checkbox\" checked><label for=\"sk-estimator-id-1\" class=\"sk-toggleable__label sk-toggleable__label-arrow\">XGBClassifier</label><div class=\"sk-toggleable__content\"><pre>XGBClassifier(base_score=None, booster=None, callbacks=None,\n",
       "              colsample_bylevel=0.836, colsample_bynode=None,\n",
       "              colsample_bytree=0.8733, device=&#x27;cuda&#x27;,\n",
       "              early_stopping_rounds=None, enable_categorical=False,\n",
       "              eval_metric=&#x27;logloss&#x27;, feature_types=None, gamma=None,\n",
       "              grow_policy=None, importance_type=None,\n",
       "              interaction_constraints=None, learning_rate=0.0947, max_bin=None,\n",
       "              max_cat_threshold=None, max_cat_to_onehot=None,\n",
       "              max_delta_step=None, max_depth=None, max_leaves=25,\n",
       "              min_child_weight=0.0034, missing=nan, monotone_constraints=None,\n",
       "              multi_strategy=None, n_estimators=71, n_jobs=None,\n",
       "              num_parallel_tree=None, random_state=42, ...)</pre></div></div></div></div></div>"
      ],
      "text/plain": [
       "XGBClassifier(base_score=None, booster=None, callbacks=None,\n",
       "              colsample_bylevel=0.836, colsample_bynode=None,\n",
       "              colsample_bytree=0.8733, device='cuda',\n",
       "              early_stopping_rounds=None, enable_categorical=False,\n",
       "              eval_metric='logloss', feature_types=None, gamma=None,\n",
       "              grow_policy=None, importance_type=None,\n",
       "              interaction_constraints=None, learning_rate=0.0947, max_bin=None,\n",
       "              max_cat_threshold=None, max_cat_to_onehot=None,\n",
       "              max_delta_step=None, max_depth=None, max_leaves=25,\n",
       "              min_child_weight=0.0034, missing=nan, monotone_constraints=None,\n",
       "              multi_strategy=None, n_estimators=71, n_jobs=None,\n",
       "              num_parallel_tree=None, random_state=42, ...)"
      ]
     },
     "execution_count": 6,
     "metadata": {},
     "output_type": "execute_result"
    }
   ],
   "source": [
    "best_n_estimators = int(np.mean(best_iters))\n",
    "print(f\"\\nTraining final model with {best_n_estimators} estimators...\")\n",
    "xgb_params_final = xgb_params.copy()\n",
    "xgb_params_final['n_estimators'] = best_n_estimators\n",
    "\n",
    "final_model = xgb.XGBClassifier(**xgb_params_final)\n",
    "final_model.fit(X_train, y_train_enc)\n"
   ]
  },
  {
   "cell_type": "markdown",
   "id": "21460320",
   "metadata": {
    "papermill": {
     "duration": 0.00314,
     "end_time": "2025-07-02T15:29:18.119269",
     "exception": false,
     "start_time": "2025-07-02T15:29:18.116129",
     "status": "completed"
    },
    "tags": []
   },
   "source": [
    "**📊 7. Feature Importance Plot**"
   ]
  },
  {
   "cell_type": "code",
   "execution_count": 7,
   "id": "ad95a63c",
   "metadata": {
    "execution": {
     "iopub.execute_input": "2025-07-02T15:29:18.127026Z",
     "iopub.status.busy": "2025-07-02T15:29:18.126687Z",
     "iopub.status.idle": "2025-07-02T15:29:18.435515Z",
     "shell.execute_reply": "2025-07-02T15:29:18.434594Z"
    },
    "papermill": {
     "duration": 0.314547,
     "end_time": "2025-07-02T15:29:18.437042",
     "exception": false,
     "start_time": "2025-07-02T15:29:18.122495",
     "status": "completed"
    },
    "tags": []
   },
   "outputs": [
    {
     "data": {
      "image/png": "[encoded data removed]",
      "text/plain": [
       "<Figure size 1200x800 with 1 Axes>"
      ]
     },
     "metadata": {},
     "output_type": "display_data"
    }
   ],
   "source": [
    "importances = final_model.feature_importances_\n",
    "importance_df = pd.DataFrame({'Feature': X_train.columns, 'Importance': importances})\n",
    "importance_df = importance_df.sort_values(by='Importance', ascending=False)\n",
    "\n",
    "plt.figure(figsize=(12, 8))\n",
    "sns.barplot(x='Importance', y='Feature', data=importance_df.head(20), palette='viridis')\n",
    "plt.title('Top 20 Feature Importances')\n",
    "plt.tight_layout()\n",
    "plt.show()\n"
   ]
  },
  {
   "cell_type": "markdown",
   "id": "a6f8982d",
   "metadata": {
    "papermill": {
     "duration": 0.003862,
     "end_time": "2025-07-02T15:29:18.445557",
     "exception": false,
     "start_time": "2025-07-02T15:29:18.441695",
     "status": "completed"
    },
    "tags": []
   },
   "source": [
    "**📤 8. Predict and Submit**"
   ]
  },
  {
   "cell_type": "code",
   "execution_count": 8,
   "id": "034ad877",
   "metadata": {
    "execution": {
     "iopub.execute_input": "2025-07-02T15:29:18.455108Z",
     "iopub.status.busy": "2025-07-02T15:29:18.454471Z",
     "iopub.status.idle": "2025-07-02T15:29:18.482102Z",
     "shell.execute_reply": "2025-07-02T15:29:18.480942Z"
    },
    "papermill": {
     "duration": 0.034039,
     "end_time": "2025-07-02T15:29:18.483532",
     "exception": false,
     "start_time": "2025-07-02T15:29:18.449493",
     "status": "completed"
    },
    "tags": []
   },
   "outputs": [
    {
     "name": "stdout",
     "output_type": "stream",
     "text": [
      "Submission file saved as 'submission.csv'\n"
     ]
    }
   ],
   "source": [
    "test_preds = final_model.predict(X_test)\n",
    "test_preds_labels = target_encoder.inverse_transform(test_preds)\n",
    "\n",
    "submission = sample_submission.copy()\n",
    "submission['Personality'] = test_preds_labels\n",
    "submission.to_csv('submission.csv', index=False)\n",
    "print(\"Submission file saved as 'submission.csv'\")"
   ]
  }
 ],
 "metadata": {
  "kaggle": {
   "accelerator": "none",
   "dataSources": [
    {
     "databundleVersionId": 12738969,
     "sourceId": 91718,
     "sourceType": "competition"
    },
    {
     "datasetId": 7474089,
     "sourceId": 12156348,
     "sourceType": "datasetVersion"
    }
   ],
   "dockerImageVersionId": 31040,
   "isGpuEnabled": false,
   "isInternetEnabled": true,
   "language": "python",
   "sourceType": "notebook"
  },
  "kernelspec": {
   "display_name": "Python 3",
   "language": "python",
   "name": "python3"
  },
  "language_info": {
   "codemirror_mode": {
    "name": "ipython",
    "version": 3
   },
   "file_extension": ".py",
   "mimetype": "text/x-python",
   "name": "python",
   "nbconvert_exporter": "python",
   "pygments_lexer": "ipython3",
   "version": "3.11.11"
  },
  "papermill": {
   "default_parameters": {},
   "duration": 12.010747,
   "end_time": "2025-07-02T15:29:19.106646",
   "environment_variables": {},
   "exception": null,
   "input_path": "__notebook__.ipynb",
   "output_path": "__notebook__.ipynb",
   "parameters": {},
   "start_time": "2025-07-02T15:29:07.095899",
   "version": "2.6.0"
  }
 },
 "nbformat": 4,
 "nbformat_minor": 5
}
